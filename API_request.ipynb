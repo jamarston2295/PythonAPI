{
 "cells": [
  {
   "cell_type": "markdown",
   "metadata": {},
   "source": [
    "## Step 1"
   ]
  },
  {
   "cell_type": "markdown",
   "metadata": {},
   "source": [
    "Load in the data using python requests. The last line of the url, 'order=date+desc', tells us to order the data by the date with the most recent data being called in first."
   ]
  },
  {
   "cell_type": "code",
   "execution_count": 60,
   "metadata": {},
   "outputs": [],
   "source": [
    "import os\n",
    "import requests\n",
    "import json\n",
    "\n",
    "response_API = requests.get('https://healthdata.gov/resource/j8mb-icvb.json?$order=date+desc')\n",
    "# response_API = requests.get('https://healthdata.gov/resource/j8mb-icvb.json?$limit=50000&$offset=124375')\n",
    "\n",
    "data = response_API.text\n",
    "data = json.loads(data)"
   ]
  },
  {
   "cell_type": "markdown",
   "metadata": {},
   "source": [
    "## Step 2"
   ]
  },
  {
   "cell_type": "markdown",
   "metadata": {},
   "source": [
    "Create a list of all the states in the data which we will use later on."
   ]
  },
  {
   "cell_type": "code",
   "execution_count": 61,
   "metadata": {},
   "outputs": [],
   "source": [
    "unique_states = [d['state_name'] for d in data]\n",
    "unique_states = set(unique_states)"
   ]
  },
  {
   "cell_type": "markdown",
   "metadata": {},
   "source": [
    "## Step 3"
   ]
  },
  {
   "cell_type": "markdown",
   "metadata": {},
   "source": [
    "Create a list of the last 5 days for which we have data."
   ]
  },
  {
   "cell_type": "code",
   "execution_count": 62,
   "metadata": {},
   "outputs": [],
   "source": [
    "from datetime import datetime  \n",
    "from datetime import timedelta\n",
    "\n",
    "latest_data = max(data, key=lambda d: d['date'])\n",
    "days = [str(datetime.strptime(latest_data['date'][ : 10], '%Y-%m-%d')-timedelta(days=i)) for i in range(5)]"
   ]
  },
  {
   "cell_type": "markdown",
   "metadata": {},
   "source": [
    "## Step 4"
   ]
  },
  {
   "cell_type": "markdown",
   "metadata": {},
   "source": [
    "Iterate through each state, creating a new word document for each state we encounter. The heading will be the state name followed by today's date. We create a table with the 5 columns requested in the assessment documentation. We then iterate through each day and row of data and when the state and day match the current iteration values, and the outcome is positive, we add to the columns for positive tests with the corresponding values for that row of data. For example, if we are on Alabama and the iteration date is 2022-04-10, if the row of data in the current iteration (represented by 'd' in this code) has state_name Alabama, date 2022-04-10 and the overall_outcome positive, we add the values of new_results_reported to the 'New Positive Tests Reported'column in our table, and we add the values of total_results_reported to the 'Total Positive Tests Reported' column. The same process is followed for the negative results. The results are then saved in a specified filepath location."
   ]
  },
  {
   "cell_type": "code",
   "execution_count": null,
   "metadata": {},
   "outputs": [],
   "source": [
    "import docx\n",
    "from datetime import date\n",
    "from zipfile import ZipFile\n",
    "\n",
    "filepath = os.path.normpath('YourFilepath')\n",
    "zip_ = ZipFile(filepath + 'HexegonAssessment.zip', 'w')\n",
    "\n",
    "for state in unique_states:\n",
    "    doc = docx.Document()\n",
    "    doc.add_heading(state + ' ' + '-' + ' ' + str(date.today()), 0)\n",
    "    table = doc.add_table(rows=1, cols=5)\n",
    "    row = table.rows[0].cells\n",
    "    row[0].text = 'Date'\n",
    "    row[1].text = 'New Positive Tests Reported'\n",
    "    row[2].text = 'New Negative Tests Reported'\n",
    "    row[3].text = 'Total Positive Tests Reported'\n",
    "    row[4].text = 'Total Negative Tests Reported'\n",
    "    \n",
    "    for day in days:\n",
    "        for d in data:\n",
    "            if str(datetime.strptime(d['date'][ : 10], '%Y-%m-%d'))==day and d['state_name']==state and d['overall_outcome']=='Positive':\n",
    "                row = table.add_row().cells\n",
    "                row[0].text = str(datetime.strptime(d['date'][ : 10], '%Y-%m-%d'))\n",
    "                row[1].text = str(d['new_results_reported'])\n",
    "                row[2].text = str(d['total_results_reported'])\n",
    "            elif str(datetime.strptime(d['date'][ : 10], '%Y-%m-%d'))==day and d['state_name']==state and d['overall_outcome']=='Negative':\n",
    "                row = table.add_row().cells\n",
    "                row[3].text = str(d['new_results_reported'])\n",
    "                row[4].text = str(d['total_results_reported'])\n",
    "      \n",
    "    doc.save(filepath + '\\\\' + state + '_test_results.docx')\n",
    "    zip_.write(filepath + '\\\\' + state + '_test_results.docx')\n",
    "    \n",
    "os.remove(filepath)\n",
    "zip_.close()"
   ]
  }
 ],
 "metadata": {
  "kernelspec": {
   "display_name": "Python 3",
   "language": "python",
   "name": "python3"
  },
  "language_info": {
   "codemirror_mode": {
    "name": "ipython",
    "version": 3
   },
   "file_extension": ".py",
   "mimetype": "text/x-python",
   "name": "python",
   "nbconvert_exporter": "python",
   "pygments_lexer": "ipython3",
   "version": "3.8.3"
  }
 },
 "nbformat": 4,
 "nbformat_minor": 4
}
